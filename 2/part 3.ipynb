{
 "cells": [
  {
   "cell_type": "markdown",
   "metadata": {
    "id": "FHFv1ivtNAtq"
   },
   "source": [
    "# 1. import libraries"
   ]
  },
  {
   "cell_type": "code",
   "execution_count": 1,
   "metadata": {
    "id": "iMiQhN-FMZKj"
   },
   "outputs": [],
   "source": [
    "import io\n",
    "import warnings\n",
    "import numpy as np\n",
    "import pandas as pd\n",
    "import matplotlib.pyplot as plt\n",
    "import seaborn as sns"
   ]
  },
  {
   "cell_type": "code",
   "execution_count": 2,
   "metadata": {
    "id": "qwXplcU-NNJg"
   },
   "outputs": [],
   "source": [
    "import statsmodels.api as sm\n",
    "warnings.filterwarnings(\"ignore\")\n",
    "%matplotlib inline\n",
    "plt.style.use('seaborn-white')"
   ]
  },
  {
   "cell_type": "markdown",
   "metadata": {
    "id": "9piNfcDfNQ-_"
   },
   "source": [
    "# 2. data"
   ]
  },
  {
   "cell_type": "code",
   "execution_count": 3,
   "metadata": {},
   "outputs": [
    {
     "data": {
      "text/plain": [
       "(672, 15)"
      ]
     },
     "execution_count": 3,
     "metadata": {},
     "output_type": "execute_result"
    }
   ],
   "source": [
    "df1 = pd.read_csv('model_data.csv')\n",
    "Country = df1['Country'].unique()\n",
    "df1.shape"
   ]
  },
  {
   "cell_type": "markdown",
   "metadata": {},
   "source": [
    "# 3. Quantity"
   ]
  },
  {
   "cell_type": "code",
   "execution_count": 4,
   "metadata": {},
   "outputs": [],
   "source": [
    "Christmas=[]\n",
    "New_Year=[]\n",
    "Valentine=[]\n",
    "Easter=[] \n",
    "Memorial=[] \n",
    "Juneteenth=[] \n",
    "July4th=[]    \n",
    "Labor_Day=[] \n",
    "Columbus_Day=[] \n",
    "Veterans_Day=[] \n",
    "Thanksgiving=[]"
   ]
  },
  {
   "cell_type": "code",
   "execution_count": 5,
   "metadata": {
    "scrolled": false
   },
   "outputs": [],
   "source": [
    "for i in  Country:\n",
    "    df2 = df1[df1['Country']==i]\n",
    "    y = df2[['Quantity']]\n",
    "    x = df2[['Christmas', 'New Year', 'Valentine', 'Easter', 'Memorial', 'Juneteenth', '4thJuly', \n",
    "             'Labor Day', 'Columbus Day', 'Veterans Day', 'Thanksgiving']]\n",
    "    model = sm.OLS(y,x)\n",
    "    results = model.fit()\n",
    "    \n",
    "    Christmas.append(np.round(results.pvalues[0],3))\n",
    "    New_Year.append(np.round(results.pvalues[1],3))\n",
    "    Valentine.append(np.round(results.pvalues[2],3))\n",
    "    Easter.append(np.round(results.pvalues[3],3))\n",
    "    Memorial.append(np.round(results.pvalues[4],3))\n",
    "    Juneteenth.append(np.round(results.pvalues[5],3))\n",
    "    July4th.append(np.round(results.pvalues[6],3))\n",
    "    Labor_Day.append(np.round(results.pvalues[7],3))\n",
    "    Columbus_Day.append(np.round(results.pvalues[8],3))\n",
    "    Veterans_Day.append(np.round(results.pvalues[9],3))\n",
    "    Thanksgiving.append(np.round(results.pvalues[10],3))"
   ]
  },
  {
   "cell_type": "code",
   "execution_count": 6,
   "metadata": {},
   "outputs": [],
   "source": [
    "df2 = pd.DataFrame({'Country':Country, 'Christmas':Christmas, 'New Year':New_Year, 'Valentine':Valentine, 'Easter':Easter, \n",
    "                    'Memorial':Memorial, 'Juneteenth':Juneteenth, '4thJuly':July4th, 'Labor Day':Labor_Day, \n",
    "                    'Columbus Day':Columbus_Day, 'Veterans Day':Veterans_Day, 'Thanksgiving':Thanksgiving})\n",
    "df2 = df2.fillna(1)\n",
    "df2.to_csv('countryQ.csv', index=False)"
   ]
  },
  {
   "cell_type": "markdown",
   "metadata": {},
   "source": [
    "# 4. TotalPrice"
   ]
  },
  {
   "cell_type": "code",
   "execution_count": 7,
   "metadata": {
    "scrolled": false
   },
   "outputs": [],
   "source": [
    "Christmas=[]\n",
    "New_Year=[]\n",
    "Valentine=[]\n",
    "Easter=[] \n",
    "Memorial=[] \n",
    "Juneteenth=[] \n",
    "July4th=[]    \n",
    "Labor_Day=[] \n",
    "Columbus_Day=[] \n",
    "Veterans_Day=[] \n",
    "Thanksgiving=[]"
   ]
  },
  {
   "cell_type": "code",
   "execution_count": 8,
   "metadata": {},
   "outputs": [],
   "source": [
    "for i in  Country:\n",
    "    df2 = df1[df1['Country']==i]\n",
    "    y = df2[['TotalPrice']]\n",
    "    x = df2[['Christmas', 'New Year', 'Valentine', 'Easter', 'Memorial', 'Juneteenth', '4thJuly', \n",
    "             'Labor Day', 'Columbus Day', 'Veterans Day', 'Thanksgiving']]\n",
    "    model = sm.OLS(y,x)\n",
    "    results = model.fit()\n",
    "    \n",
    "    Christmas.append(np.round(results.pvalues[0],3))\n",
    "    New_Year.append(np.round(results.pvalues[1],3))\n",
    "    Valentine.append(np.round(results.pvalues[2],3))\n",
    "    Easter.append(np.round(results.pvalues[3],3))\n",
    "    Memorial.append(np.round(results.pvalues[4],3))\n",
    "    Juneteenth.append(np.round(results.pvalues[5],3))\n",
    "    July4th.append(np.round(results.pvalues[6],3))\n",
    "    Labor_Day.append(np.round(results.pvalues[7],3))\n",
    "    Columbus_Day.append(np.round(results.pvalues[8],3))\n",
    "    Veterans_Day.append(np.round(results.pvalues[9],3))\n",
    "    Thanksgiving.append(np.round(results.pvalues[10],3))"
   ]
  },
  {
   "cell_type": "code",
   "execution_count": 9,
   "metadata": {},
   "outputs": [],
   "source": [
    "df2 = pd.DataFrame({'Country':Country, 'Christmas':Christmas, 'New Year':New_Year, 'Valentine':Valentine, 'Easter':Easter, \n",
    "                    'Memorial':Memorial, 'Juneteenth':Juneteenth, '4thJuly':July4th, 'Labor Day':Labor_Day, \n",
    "                    'Columbus Day':Columbus_Day, 'Veterans Day':Veterans_Day, 'Thanksgiving':Thanksgiving})\n",
    "df2 = df2.fillna(1)\n",
    "df2.to_csv('countryP.csv', index=False)"
   ]
  }
 ],
 "metadata": {
  "colab": {
   "collapsed_sections": [],
   "name": "01_Trends_Repeat.ipynb",
   "provenance": []
  },
  "kernelspec": {
   "display_name": "Python 3",
   "language": "python",
   "name": "python3"
  },
  "language_info": {
   "codemirror_mode": {
    "name": "ipython",
    "version": 3
   },
   "file_extension": ".py",
   "mimetype": "text/x-python",
   "name": "python",
   "nbconvert_exporter": "python",
   "pygments_lexer": "ipython3",
   "version": "3.7.6"
  }
 },
 "nbformat": 4,
 "nbformat_minor": 1
}
