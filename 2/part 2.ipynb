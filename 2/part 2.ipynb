{
 "cells": [
  {
   "cell_type": "markdown",
   "metadata": {
    "id": "FHFv1ivtNAtq"
   },
   "source": [
    "# 1. import libraries"
   ]
  },
  {
   "cell_type": "code",
   "execution_count": 1,
   "metadata": {
    "id": "iMiQhN-FMZKj"
   },
   "outputs": [],
   "source": [
    "import io\n",
    "import warnings\n",
    "import numpy as np\n",
    "import pandas as pd\n",
    "import matplotlib.pyplot as plt\n",
    "import seaborn as sns"
   ]
  },
  {
   "cell_type": "code",
   "execution_count": 2,
   "metadata": {
    "id": "qwXplcU-NNJg"
   },
   "outputs": [],
   "source": [
    "import statsmodels.api as sm\n",
    "warnings.filterwarnings(\"ignore\")\n",
    "%matplotlib inline\n",
    "plt.style.use('seaborn-white')"
   ]
  },
  {
   "cell_type": "markdown",
   "metadata": {
    "id": "9piNfcDfNQ-_"
   },
   "source": [
    "# 2. data"
   ]
  },
  {
   "cell_type": "code",
   "execution_count": 3,
   "metadata": {},
   "outputs": [
    {
     "data": {
      "text/plain": [
       "(53, 14)"
      ]
     },
     "execution_count": 3,
     "metadata": {},
     "output_type": "execute_result"
    }
   ],
   "source": [
    "df1 = pd.read_csv('model_data.csv')\n",
    "df1 = df1.groupby('date').agg({'Quantity':'sum', 'TotalPrice':'sum', 'Christmas':'max', 'New Year':'max', 'Valentine':'max', \n",
    "                               'Easter':'max', 'Memorial':'max', 'Juneteenth':'max', '4thJuly':'max', 'Labor Day':'max',\n",
    "                               'Columbus Day':'max', 'Veterans Day':'max', 'Thanksgiving':'max'}).reset_index()\n",
    "df1.shape"
   ]
  },
  {
   "cell_type": "code",
   "execution_count": 4,
   "metadata": {},
   "outputs": [
    {
     "data": {
      "text/plain": [
       "(53, 14)"
      ]
     },
     "execution_count": 4,
     "metadata": {},
     "output_type": "execute_result"
    }
   ],
   "source": [
    "df1.to_csv('rolledup_data.csv', index=False)\n",
    "df1.shape"
   ]
  },
  {
   "cell_type": "markdown",
   "metadata": {},
   "source": [
    "# 3. Models"
   ]
  },
  {
   "cell_type": "code",
   "execution_count": 5,
   "metadata": {},
   "outputs": [],
   "source": [
    "y = df1[['Quantity']]\n",
    "x = df1[['Christmas', 'New Year', 'Valentine', 'Easter', 'Memorial', 'Juneteenth', '4thJuly', \n",
    "         'Labor Day', 'Columbus Day', 'Veterans Day', 'Thanksgiving']]\n",
    "x = sm.add_constant(x)\n",
    "model = sm.OLS(y,x)\n",
    "results = model.fit()"
   ]
  },
  {
   "cell_type": "code",
   "execution_count": 6,
   "metadata": {},
   "outputs": [
    {
     "name": "stdout",
     "output_type": "stream",
     "text": [
      "const : 0.0\n",
      "Christmas : 0.026\n",
      "New Year : 0.089\n",
      "Valentine : 0.049\n",
      "Easter : 0.043\n",
      "Memorial : 0.036\n",
      "Juneteenth : 0.211\n",
      "4thJuly : 0.125\n",
      "Labor Day : 0.367\n",
      "Columbus Day : 0.255\n",
      "Veterans Day : 0.132\n"
     ]
    }
   ],
   "source": [
    "z = x.columns\n",
    "for i in range (11):\n",
    "    print(z[i],':',np.round(results.pvalues[i],3))"
   ]
  },
  {
   "cell_type": "code",
   "execution_count": 7,
   "metadata": {
    "scrolled": false
   },
   "outputs": [],
   "source": [
    "y = df1[['TotalPrice']]\n",
    "x = df1[['Christmas', 'New Year', 'Valentine', 'Easter', 'Memorial', 'Juneteenth', '4thJuly', \n",
    "         'Labor Day', 'Columbus Day', 'Veterans Day', 'Thanksgiving']]\n",
    "x = sm.add_constant(x)\n",
    "model = sm.OLS(y,x)\n",
    "results = model.fit()"
   ]
  },
  {
   "cell_type": "code",
   "execution_count": 8,
   "metadata": {},
   "outputs": [
    {
     "name": "stdout",
     "output_type": "stream",
     "text": [
      "const : 0.0\n",
      "Christmas : 0.022\n",
      "New Year : 0.185\n",
      "Valentine : 0.127\n",
      "Easter : 0.037\n",
      "Memorial : 0.101\n",
      "Juneteenth : 0.276\n",
      "4thJuly : 0.201\n",
      "Labor Day : 0.296\n",
      "Columbus Day : 0.114\n",
      "Veterans Day : 0.071\n"
     ]
    }
   ],
   "source": [
    "z = x.columns\n",
    "for i in range (11):\n",
    "    print(z[i],':',np.round(results.pvalues[i],3))"
   ]
  }
 ],
 "metadata": {
  "colab": {
   "collapsed_sections": [],
   "name": "01_Trends_Repeat.ipynb",
   "provenance": []
  },
  "kernelspec": {
   "display_name": "Python 3",
   "language": "python",
   "name": "python3"
  },
  "language_info": {
   "codemirror_mode": {
    "name": "ipython",
    "version": 3
   },
   "file_extension": ".py",
   "mimetype": "text/x-python",
   "name": "python",
   "nbconvert_exporter": "python",
   "pygments_lexer": "ipython3",
   "version": "3.7.6"
  }
 },
 "nbformat": 4,
 "nbformat_minor": 1
}
