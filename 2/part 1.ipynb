{
 "cells": [
  {
   "cell_type": "markdown",
   "metadata": {
    "id": "FHFv1ivtNAtq"
   },
   "source": [
    "# 1. import libraries"
   ]
  },
  {
   "cell_type": "code",
   "execution_count": 1,
   "metadata": {
    "id": "iMiQhN-FMZKj"
   },
   "outputs": [],
   "source": [
    "import io\n",
    "import warnings\n",
    "import numpy as np\n",
    "import pandas as pd\n",
    "import matplotlib.pyplot as plt\n",
    "import seaborn as sns"
   ]
  },
  {
   "cell_type": "code",
   "execution_count": 2,
   "metadata": {
    "id": "qwXplcU-NNJg"
   },
   "outputs": [],
   "source": [
    "from pandas.tseries.offsets import DateOffset\n",
    "warnings.filterwarnings(\"ignore\")\n",
    "%matplotlib inline\n",
    "plt.style.use('seaborn-white')"
   ]
  },
  {
   "cell_type": "markdown",
   "metadata": {
    "id": "9piNfcDfNQ-_"
   },
   "source": [
    "# 2. data 1"
   ]
  },
  {
   "cell_type": "code",
   "execution_count": 3,
   "metadata": {},
   "outputs": [
    {
     "data": {
      "text/plain": [
       "(81601, 13)"
      ]
     },
     "execution_count": 3,
     "metadata": {},
     "output_type": "execute_result"
    }
   ],
   "source": [
    "df1 = pd.read_csv('Ecommerce_Data.csv')\n",
    "df1['year'] = pd.DatetimeIndex(df1['Date']).year.astype(str)\n",
    "df1['week1'] = pd.DatetimeIndex(df1['Date']).week.astype(str)\n",
    "df1['week2'] = np.where(df1['week1'].str.len()==1, '0'+df1['week1'], df1['week1'])\n",
    "df1.shape"
   ]
  },
  {
   "cell_type": "code",
   "execution_count": 4,
   "metadata": {},
   "outputs": [
    {
     "data": {
      "text/plain": [
       "(672, 4)"
      ]
     },
     "execution_count": 4,
     "metadata": {},
     "output_type": "execute_result"
    }
   ],
   "source": [
    "df1['date'] = df1['year'].astype(str)+\"-\"+df1['week2'].astype(str)\n",
    "df1['TotalPrice'] = df1['Quantity'] * df1['UnitPrice']\n",
    "df1 = df1[['date', 'Country', 'Quantity', 'TotalPrice']]\n",
    "df1 = df1.groupby(['date','Country']).agg({'Quantity':'sum','TotalPrice':'sum'}).reset_index()\n",
    "df1.shape"
   ]
  },
  {
   "cell_type": "markdown",
   "metadata": {},
   "source": [
    "# 3. data 2"
   ]
  },
  {
   "cell_type": "code",
   "execution_count": 5,
   "metadata": {},
   "outputs": [
    {
     "data": {
      "text/plain": [
       "(38, 9)"
      ]
     },
     "execution_count": 5,
     "metadata": {},
     "output_type": "execute_result"
    }
   ],
   "source": [
    "df2 = pd.read_csv('US_Holiday_Dates_(2004-2021).csv')\n",
    "df2 = df2[df2['Year'].isin([2010,2011])]\n",
    "df2 = df2.sort_values('Date')\n",
    "df2['year'] = pd.DatetimeIndex(df2['Date']).year.astype(str)\n",
    "df2['week1'] = pd.DatetimeIndex(df2['Date']).week.astype(str)\n",
    "df2['week1'] = np.where((df2['Month']==1) & (df2['week1']=='52'), '1', df2['week1'])\n",
    "df2['week2'] = np.where(df2['week1'].str.len()==1, '0'+df2['week1'], df2['week1'])\n",
    "df2.shape"
   ]
  },
  {
   "cell_type": "code",
   "execution_count": 6,
   "metadata": {},
   "outputs": [
    {
     "data": {
      "text/plain": [
       "(38, 10)"
      ]
     },
     "execution_count": 6,
     "metadata": {},
     "output_type": "execute_result"
    }
   ],
   "source": [
    "df2['date'] = df2['year'].astype(str)+\"-\"+df2['week2'].astype(str)\n",
    "df2['year'] = df2['year'].astype(int)\n",
    "df2['week1'] = df2['week1'].astype(int)\n",
    "df2['week1'] = np.where((df2['WeekDay'].isin(['Monday','Tuesday'])) & (df2['week1']==1), 52, \n",
    "                        np.where(df2['WeekDay'].isin(['Monday','Tuesday']), df2['week1']-1, df2['week1']))\n",
    "df2['week1'] = np.where((df2['WeekDay'].isin(['Saturday','Sunday'])) & (df2['week1']==52), 1, \n",
    "                        np.where(df2['WeekDay'].isin(['Saturday','Sunday']), df2['week1']+1, df2['week1']))\n",
    "df2.shape"
   ]
  },
  {
   "cell_type": "code",
   "execution_count": 7,
   "metadata": {
    "scrolled": false
   },
   "outputs": [
    {
     "data": {
      "text/plain": [
       "(29, 3)"
      ]
     },
     "execution_count": 7,
     "metadata": {},
     "output_type": "execute_result"
    }
   ],
   "source": [
    "df2['year'] = np.where((df2['WeekDay'].isin(['Monday','Tuesday'])) & (df2['week1']==1), df2['year']-1, df2['year'])\n",
    "df2['year'] = np.where((df2['WeekDay'].isin(['Saturday','Sunday'])) & (df2['week1']==52), df2['year']+1, df2['year'])\n",
    "df2['week1'] = df2['week1'].astype(str)\n",
    "df2['week2'] = np.where(df2['week1'].str.len()==1, '0'+df2['week1'], df2['week1'])\n",
    "df2['also'] = df2['year'].astype(str)+\"-\"+df2['week2'].astype(str)\n",
    "df2 = df2[['date', 'also', 'Holiday']]\n",
    "df3 = df2[df2['date']!=df2['also']]\n",
    "df3.shape"
   ]
  },
  {
   "cell_type": "code",
   "execution_count": 8,
   "metadata": {},
   "outputs": [
    {
     "data": {
      "text/plain": [
       "(67, 2)"
      ]
     },
     "execution_count": 8,
     "metadata": {},
     "output_type": "execute_result"
    }
   ],
   "source": [
    "df2 = df2[['date', 'Holiday']]\n",
    "df3 = df3[['also', 'Holiday']]\n",
    "df3.columns = ['date', 'Holiday']\n",
    "df2 = pd.concat([df2,df3])\n",
    "df2 = df2.sort_values('date')\n",
    "df2.shape"
   ]
  },
  {
   "cell_type": "markdown",
   "metadata": {},
   "source": [
    "# 4. merged data"
   ]
  },
  {
   "cell_type": "code",
   "execution_count": 9,
   "metadata": {},
   "outputs": [
    {
     "data": {
      "text/plain": [
       "(793, 16)"
      ]
     },
     "execution_count": 9,
     "metadata": {},
     "output_type": "execute_result"
    }
   ],
   "source": [
    "df3 = pd.merge(df1, df2, how='left', on='date')\n",
    "df3['Christmas'] = np.where(df3['Holiday'].isin(['Christmas Day','Christmas Eve']),1,0)\n",
    "df3['New Year'] = np.where(df3['Holiday'].isin(['New Year’s Eve','New Year\\'s Day','Martin Luther King, Jr. Day']),1,0)\n",
    "df3['Valentine'] = np.where(df3['Holiday'].isin(['Valentine’s Day','Washington\\'s Birthday']),1,0)\n",
    "df3['Easter'] = np.where(df3['Holiday'].isin(['Western Easter','Eastern Easter']),1,0)\n",
    "df3['Memorial'] = np.where(df3['Holiday'].isin(['Memorial Day']),1,0)\n",
    "df3['Juneteenth'] = np.where(df3['Holiday'].isin(['Juneteenth']),1,0)\n",
    "df3['4thJuly'] = np.where(df3['Holiday'].isin(['4th of July']),1,0)\n",
    "df3['Labor Day'] = np.where(df3['Holiday'].isin(['Labor Day Weekend','Labor Day']),1,0)\n",
    "df3['Columbus Day'] = np.where(df3['Holiday'].isin(['Columbus Day']),1,0)\n",
    "df3['Veterans Day'] = np.where(df3['Holiday'].isin(['Veterans Day']),1,0)\n",
    "df3['Thanksgiving'] = np.where(df3['Holiday'].isin(['Thanksgiving Day','Thanksgiving Eve']),1,0)\n",
    "df3.shape"
   ]
  },
  {
   "cell_type": "code",
   "execution_count": 10,
   "metadata": {
    "scrolled": true
   },
   "outputs": [
    {
     "data": {
      "text/plain": [
       "(672, 15)"
      ]
     },
     "execution_count": 10,
     "metadata": {},
     "output_type": "execute_result"
    }
   ],
   "source": [
    "df3 = df3.drop('Holiday', axis=1)\n",
    "df3 = df3.drop_duplicates()\n",
    "df3.shape"
   ]
  },
  {
   "cell_type": "markdown",
   "metadata": {},
   "source": [
    "# 5. Export data"
   ]
  },
  {
   "cell_type": "code",
   "execution_count": 11,
   "metadata": {},
   "outputs": [
    {
     "data": {
      "text/plain": [
       "(672, 15)"
      ]
     },
     "execution_count": 11,
     "metadata": {},
     "output_type": "execute_result"
    }
   ],
   "source": [
    "df3.to_csv('model_data.csv', index=False)\n",
    "df3.shape"
   ]
  }
 ],
 "metadata": {
  "colab": {
   "collapsed_sections": [],
   "name": "01_Trends_Repeat.ipynb",
   "provenance": []
  },
  "kernelspec": {
   "display_name": "Python 3",
   "language": "python",
   "name": "python3"
  },
  "language_info": {
   "codemirror_mode": {
    "name": "ipython",
    "version": 3
   },
   "file_extension": ".py",
   "mimetype": "text/x-python",
   "name": "python",
   "nbconvert_exporter": "python",
   "pygments_lexer": "ipython3",
   "version": "3.7.6"
  }
 },
 "nbformat": 4,
 "nbformat_minor": 1
}
