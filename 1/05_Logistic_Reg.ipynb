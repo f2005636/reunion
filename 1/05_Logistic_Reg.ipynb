{
 "cells": [
  {
   "cell_type": "markdown",
   "metadata": {
    "id": "FHFv1ivtNAtq"
   },
   "source": [
    "# 1. Import libraries"
   ]
  },
  {
   "cell_type": "code",
   "execution_count": 1,
   "metadata": {
    "id": "iMiQhN-FMZKj"
   },
   "outputs": [],
   "source": [
    "import io\n",
    "import warnings\n",
    "import numpy as np\n",
    "import pandas as pd\n",
    "import matplotlib.pyplot as plt\n",
    "import seaborn as sns"
   ]
  },
  {
   "cell_type": "code",
   "execution_count": 2,
   "metadata": {
    "colab": {
     "base_uri": "https://localhost:8080/"
    },
    "id": "g3kyPLtLQiRG",
    "outputId": "975c4c77-aedd-4525-a68a-9002fbf4ab4e"
   },
   "outputs": [],
   "source": [
    "import statsmodels.api as sm\n",
    "from sklearn.metrics import roc_auc_score, confusion_matrix"
   ]
  },
  {
   "cell_type": "code",
   "execution_count": 3,
   "metadata": {
    "id": "qwXplcU-NNJg"
   },
   "outputs": [],
   "source": [
    "warnings.filterwarnings(\"ignore\")\n",
    "%matplotlib inline\n",
    "plt.style.use('seaborn-white')\n",
    "plt.rcParams['figure.figsize'] = 10,5"
   ]
  },
  {
   "cell_type": "markdown",
   "metadata": {
    "id": "9piNfcDfNQ-_"
   },
   "source": [
    "# 2. Import datasets"
   ]
  },
  {
   "cell_type": "code",
   "execution_count": 4,
   "metadata": {
    "colab": {
     "base_uri": "https://localhost:8080/"
    },
    "id": "8_-6QqIByhqm",
    "outputId": "fdfadef5-36c3-4a1c-b9b4-4252251b013a"
   },
   "outputs": [
    {
     "data": {
      "text/plain": [
       "(1000, 7)"
      ]
     },
     "execution_count": 4,
     "metadata": {},
     "output_type": "execute_result"
    }
   ],
   "source": [
    "df = pd.read_csv(\"../outputs/model.csv\")\n",
    "df.shape"
   ]
  },
  {
   "cell_type": "markdown",
   "metadata": {
    "id": "xqyst4luaJu5"
   },
   "source": [
    "# 3. Model "
   ]
  },
  {
   "cell_type": "code",
   "execution_count": 5,
   "metadata": {},
   "outputs": [],
   "source": [
    "y = df['Y']\n",
    "x = df[['loan_amount', 'months', 'history', 'age', 'purpose']]"
   ]
  },
  {
   "cell_type": "code",
   "execution_count": 6,
   "metadata": {},
   "outputs": [
    {
     "name": "stdout",
     "output_type": "stream",
     "text": [
      "Optimization terminated successfully.\n",
      "         Current function value: 0.517473\n",
      "         Iterations 6\n",
      "                           Logit Regression Results                           \n",
      "==============================================================================\n",
      "Dep. Variable:                      Y   No. Observations:                 1000\n",
      "Model:                          Logit   Df Residuals:                      994\n",
      "Method:                           MLE   Df Model:                            5\n",
      "Date:                Sat, 16 Jul 2022   Pseudo R-squ.:                  0.1529\n",
      "Time:                        22:30:30   Log-Likelihood:                -517.47\n",
      "converged:                       True   LL-Null:                       -610.86\n",
      "Covariance Type:            nonrobust   LLR p-value:                 1.903e-38\n",
      "===============================================================================\n",
      "                  coef    std err          z      P>|z|      [0.025      0.975]\n",
      "-------------------------------------------------------------------------------\n",
      "const          -7.8124      0.634    -12.325      0.000      -9.055      -6.570\n",
      "loan_amount     3.6839      0.736      5.008      0.000       2.242       5.126\n",
      "months          3.7343      0.743      5.028      0.000       2.279       5.190\n",
      "history         4.2861      0.693      6.182      0.000       2.927       5.645\n",
      "age             5.3431      1.093      4.890      0.000       3.202       7.484\n",
      "purpose         5.4419      0.970      5.613      0.000       3.542       7.342\n",
      "===============================================================================\n"
     ]
    }
   ],
   "source": [
    "x = sm.add_constant(x)\n",
    "log_reg = sm.Logit(y, x).fit()\n",
    "print(log_reg.summary())"
   ]
  },
  {
   "cell_type": "markdown",
   "metadata": {
    "id": "tKFQtsB6467c"
   },
   "source": [
    "# 4. AUROC and Gini"
   ]
  },
  {
   "cell_type": "code",
   "execution_count": 7,
   "metadata": {
    "colab": {
     "base_uri": "https://localhost:8080/"
    },
    "id": "UtXKKFtk3qQg",
    "outputId": "1282137c-603a-466a-ffad-f2668ccb986c"
   },
   "outputs": [
    {
     "name": "stdout",
     "output_type": "stream",
     "text": [
      "AUROC: 0.774\n"
     ]
    }
   ],
   "source": [
    "pred_values = log_reg.predict(x)\n",
    "pred_values = pd.DataFrame(pred_values)[0]\n",
    "print('AUROC:',np.round(roc_auc_score(y, pred_values), 3))"
   ]
  },
  {
   "cell_type": "code",
   "execution_count": 8,
   "metadata": {
    "colab": {
     "base_uri": "https://localhost:8080/"
    },
    "id": "J9ABFVpy49_s",
    "outputId": "1a471b22-71cf-4f08-9c1c-c0d074bbab0d"
   },
   "outputs": [
    {
     "name": "stdout",
     "output_type": "stream",
     "text": [
      "Gini: 0.548\n"
     ]
    }
   ],
   "source": [
    "auroc = roc_auc_score(y, pred_values)\n",
    "gini = 2 * auroc - 1\n",
    "print('Gini:',np.round(gini, 3))"
   ]
  },
  {
   "cell_type": "markdown",
   "metadata": {
    "id": "gynddTte4-mY"
   },
   "source": [
    "# 5. Confusion Matrix"
   ]
  },
  {
   "cell_type": "code",
   "execution_count": 9,
   "metadata": {
    "id": "QNkuHJ6t4u8x"
   },
   "outputs": [],
   "source": [
    "train_dict = {'actuals':y, 'predicted':pred_values}\n",
    "test_calc = pd.DataFrame(train_dict)"
   ]
  },
  {
   "cell_type": "code",
   "execution_count": 10,
   "metadata": {
    "colab": {
     "base_uri": "https://localhost:8080/",
     "height": 347
    },
    "id": "6cZW7gT54yCa",
    "outputId": "9dc3bee7-600b-4b8a-b170-46b75e17c062"
   },
   "outputs": [
    {
     "name": "stdout",
     "output_type": "stream",
     "text": [
      "min f:  0.2\n"
     ]
    },
    {
     "data": {
      "image/png": "[encoded data removed]",
      "text/plain": [
       "<Figure size 720x360 with 1 Axes>"
      ]
     },
     "metadata": {},
     "output_type": "display_data"
    }
   ],
   "source": [
    "c = [0.05,0.1,0.15,0.2,0.25,0.3,0.35,0.4,0.45,0.5,0.55,0.6,0.65,0.7,0.75,0.8,0.85,0.9,0.95]\n",
    "f = [0.05,0.1,0.15,0.2,0.25,0.3,0.35,0.4,0.45,0.5,0.55,0.6,0.65,0.7,0.75,0.8,0.85,0.9,0.95]\n",
    "i = 0\n",
    "for j in c:\n",
    "    def flag(x):\n",
    "        if x > j: return 1\n",
    "        else: return 0\n",
    "    test_calc['flag'] = test_calc['predicted'].apply(flag)\n",
    "    df_table = confusion_matrix(test_calc['actuals'],test_calc['flag'])\n",
    "    f[i] = (1*df_table[0,1]) + (4*df_table[1,0])\n",
    "    i = i+1\n",
    "\n",
    "df_decision = pd.concat([pd.DataFrame(c),pd.DataFrame(f)],axis=1)\n",
    "df_decision.columns = ['c','f']\n",
    "f_max = df_decision[df_decision['f']==df_decision['f'].min()].head(1)\n",
    "max_f = float(f_max['c'])\n",
    "\n",
    "df_decision.plot(x='c',y='f',marker=\"o\", color='orangered')\n",
    "print (\"min f: \",max_f)"
   ]
  },
  {
   "cell_type": "code",
   "execution_count": 11,
   "metadata": {
    "colab": {
     "base_uri": "https://localhost:8080/"
    },
    "id": "3Rs0mhLs4Qrw",
    "outputId": "e32a2e4a-eee5-42ef-d3cd-0b9e55a78ce7"
   },
   "outputs": [
    {
     "name": "stdout",
     "output_type": "stream",
     "text": [
      "[[369 331]\n",
      " [ 39 261]]\n"
     ]
    }
   ],
   "source": [
    "def cut_off (x):\n",
    "    if x > 0.2: return 1\n",
    "    else: return 0\n",
    "test_calc['flag'] = test_calc['predicted'].apply(cut_off)\n",
    "print(confusion_matrix(test_calc['actuals'],test_calc['flag']))"
   ]
  },
  {
   "cell_type": "code",
   "execution_count": 12,
   "metadata": {
    "colab": {
     "base_uri": "https://localhost:8080/"
    },
    "id": "Cy5H9JGN5Nlf",
    "outputId": "0e49a311-54c9-4dff-92fb-83267f26fbb7"
   },
   "outputs": [
    {
     "name": "stdout",
     "output_type": "stream",
     "text": [
      "Accuracy: 0.63\n"
     ]
    }
   ],
   "source": [
    "c = confusion_matrix(test_calc['actuals'],test_calc['flag'])\n",
    "print('Accuracy:',np.round((c[0][0] + c[1][1]) / c.sum(),3))"
   ]
  },
  {
   "cell_type": "code",
   "execution_count": 13,
   "metadata": {
    "colab": {
     "base_uri": "https://localhost:8080/"
    },
    "id": "dFsgpHOD5Nb-",
    "outputId": "135c085a-39b9-460b-e102-a7e1a5fed420"
   },
   "outputs": [
    {
     "name": "stdout",
     "output_type": "stream",
     "text": [
      "cost : 487\n"
     ]
    }
   ],
   "source": [
    "print('cost :',(1*c[0,1]) + (4*c[1,0]))"
   ]
  }
 ],
 "metadata": {
  "colab": {
   "collapsed_sections": [],
   "name": "05 Logistic Reg",
   "provenance": []
  },
  "kernelspec": {
   "display_name": "Python 3",
   "language": "python",
   "name": "python3"
  },
  "language_info": {
   "codemirror_mode": {
    "name": "ipython",
    "version": 3
   },
   "file_extension": ".py",
   "mimetype": "text/x-python",
   "name": "python",
   "nbconvert_exporter": "python",
   "pygments_lexer": "ipython3",
   "version": "3.7.6"
  }
 },
 "nbformat": 4,
 "nbformat_minor": 1
}
