{
 "cells": [
  {
   "cell_type": "markdown",
   "metadata": {
    "id": "FHFv1ivtNAtq"
   },
   "source": [
    "# 1. Import libraries"
   ]
  },
  {
   "cell_type": "code",
   "execution_count": 1,
   "metadata": {
    "id": "iMiQhN-FMZKj"
   },
   "outputs": [],
   "source": [
    "import io\n",
    "import warnings\n",
    "import numpy as np\n",
    "import pandas as pd\n",
    "import matplotlib.pyplot as plt\n",
    "import seaborn as sns"
   ]
  },
  {
   "cell_type": "code",
   "execution_count": 2,
   "metadata": {
    "id": "qwXplcU-NNJg"
   },
   "outputs": [],
   "source": [
    "warnings.filterwarnings(\"ignore\")\n",
    "%matplotlib inline\n",
    "plt.style.use('seaborn-white')"
   ]
  },
  {
   "cell_type": "markdown",
   "metadata": {
    "id": "9piNfcDfNQ-_"
   },
   "source": [
    "# 2. Import datasets"
   ]
  },
  {
   "cell_type": "code",
   "execution_count": 3,
   "metadata": {
    "colab": {
     "base_uri": "https://localhost:8080/"
    },
    "id": "l6nJBDzjMQ5A",
    "outputId": "7ac4b400-8e5d-4bc7-e5aa-7253ed3f7b39"
   },
   "outputs": [
    {
     "data": {
      "text/plain": [
       "(1000, 10)"
      ]
     },
     "execution_count": 3,
     "metadata": {},
     "output_type": "execute_result"
    }
   ],
   "source": [
    "df1 = pd.read_csv(\"../inputs/applicant.csv\")\n",
    "df1['account'] = df1['applicant_id']\n",
    "df1['age'] = df1['Primary_applicant_age_in_years']\n",
    "df1['sex'] = df1['Gender']\n",
    "df1['status'] = df1['Marital_status']\n",
    "df1['dependents'] = df1['Number_of_dependents']\n",
    "df1['house'] = df1['Housing']\n",
    "df1['house_years'] = df1['Years_at_current_residence']\n",
    "df1['employ'] = df1['Employment_status']\n",
    "\n",
    "df1['employ_year'] = np.where(df1['Has_been_employed_for_at_least']=='7 years', '7 years or more',\n",
    "                              np.where(df1['Has_been_employed_for_at_least']=='4 years', '4 to 6 years',\n",
    "                                       np.where(df1['Has_been_employed_for_at_least']=='1 year', '1 to 3 years',\n",
    "                                                np.where(df1['Has_been_employed_for_at_least']=='0 year', '0 to 1 years', 'MISSING'))))\n",
    "df1['balance'] = np.where(df1['Balance_in_existing_bank_account_(lower_limit_of_bucket)']=='2 lac', '2 lac or more',\n",
    "                              np.where(df1['Balance_in_existing_bank_account_(upper_limit_of_bucket)']=='2 lac', '2 lac or less', 'MISSING'))\n",
    "df1 = df1[['account', 'age', 'sex', 'status', 'dependents', 'house', 'house_years', 'employ', 'employ_year', 'balance']]\n",
    "df1.shape"
   ]
  },
  {
   "cell_type": "code",
   "execution_count": 4,
   "metadata": {},
   "outputs": [
    {
     "data": {
      "text/plain": [
       "(1000, 12)"
      ]
     },
     "execution_count": 4,
     "metadata": {},
     "output_type": "execute_result"
    }
   ],
   "source": [
    "df2 = pd.read_csv(\"../inputs/loan.csv\")\n",
    "df2['loan'] = df2['loan_application_id']\n",
    "df2['account'] = df2['applicant_id']\n",
    "df2['months'] = df2['Months_loan_taken_for']\n",
    "df2['purpose'] = df2['Purpose'].fillna('MISSING')\n",
    "df2['loan_amount'] = df2['Principal_loan_amount']\n",
    "df2['emi_pct'] = df2['EMI_rate_in_percentage_of_disposable_income']\n",
    "df2['emi_plan'] = df2['Other_EMI_plans'].fillna('MISSING')\n",
    "\n",
    "df2['property'] = df2['Property'].fillna('MISSING')\n",
    "df2['coapplicant'] = np.where(df2['Has_coapplicant']==0, 'N', 'Y')\n",
    "df2['guarantor'] = np.where(df2['Has_guarantor']==0, 'N', 'Y')\n",
    "df2['history'] = df2['Loan_history']\n",
    "df2['Y'] = df2['high_risk_applicant']\n",
    "df2 = df2[['loan', 'account', 'months', 'purpose', 'loan_amount', 'emi_pct', 'emi_plan', 'property', \n",
    "           'coapplicant', 'guarantor', 'history', 'Y']]\n",
    "df2.shape"
   ]
  },
  {
   "cell_type": "markdown",
   "metadata": {
    "id": "9TW2B4XAgAt1"
   },
   "source": [
    "# 3. Clean"
   ]
  },
  {
   "cell_type": "code",
   "execution_count": 5,
   "metadata": {
    "colab": {
     "base_uri": "https://localhost:8080/"
    },
    "id": "40QBS3kxL6nt",
    "outputId": "d70a74a9-1042-49a8-f4cf-eec4156c3848"
   },
   "outputs": [
    {
     "name": "stdout",
     "output_type": "stream",
     "text": [
      "<class 'pandas.core.frame.DataFrame'>\n",
      "Int64Index: 1000 entries, 0 to 999\n",
      "Data columns (total 21 columns):\n",
      "account        1000 non-null int64\n",
      "age            1000 non-null int64\n",
      "sex            1000 non-null object\n",
      "status         1000 non-null object\n",
      "dependents     1000 non-null int64\n",
      "house          1000 non-null object\n",
      "house_years    1000 non-null int64\n",
      "employ         1000 non-null object\n",
      "employ_year    1000 non-null object\n",
      "balance        1000 non-null object\n",
      "loan           1000 non-null object\n",
      "months         1000 non-null int64\n",
      "purpose        1000 non-null object\n",
      "loan_amount    1000 non-null int64\n",
      "emi_pct        1000 non-null int64\n",
      "emi_plan       1000 non-null object\n",
      "property       1000 non-null object\n",
      "coapplicant    1000 non-null object\n",
      "guarantor      1000 non-null object\n",
      "history        1000 non-null object\n",
      "Y              1000 non-null int64\n",
      "dtypes: int64(8), object(13)\n",
      "memory usage: 171.9+ KB\n"
     ]
    }
   ],
   "source": [
    "df3 = pd.merge(df1, df2, how='left', on='account')\n",
    "df3.info()"
   ]
  },
  {
   "cell_type": "code",
   "execution_count": 6,
   "metadata": {},
   "outputs": [
    {
     "name": "stdout",
     "output_type": "stream",
     "text": [
      "Default Rate : 30.0 %\n",
      "0    700\n",
      "1    300\n",
      "Name: Y, dtype: int64\n"
     ]
    }
   ],
   "source": [
    "num = df3[df3['Y']==1].shape[0]\n",
    "dem = df3.shape[0]\n",
    "print('Default Rate :', np.round(num/dem*100, 3), '%')\n",
    "print(df3['Y'].value_counts())"
   ]
  },
  {
   "cell_type": "code",
   "execution_count": 7,
   "metadata": {},
   "outputs": [
    {
     "data": {
      "image/png": "[encoded data removed]",
      "text/plain": [
       "<Figure size 432x288 with 1 Axes>"
      ]
     },
     "metadata": {},
     "output_type": "display_data"
    }
   ],
   "source": [
    "sns.countplot(df3['Y'], color='firebrick');"
   ]
  },
  {
   "cell_type": "markdown",
   "metadata": {
    "id": "xqyst4luaJu5"
   },
   "source": [
    "# 5. Export Dataset"
   ]
  },
  {
   "cell_type": "code",
   "execution_count": 8,
   "metadata": {
    "colab": {
     "base_uri": "https://localhost:8080/"
    },
    "id": "NysLuNItWVQX",
    "outputId": "f4423cfd-fcab-4d1a-dcec-91020fa7a681"
   },
   "outputs": [
    {
     "data": {
      "text/plain": [
       "(1000, 21)"
      ]
     },
     "execution_count": 8,
     "metadata": {},
     "output_type": "execute_result"
    }
   ],
   "source": [
    "df3.to_csv('../outputs/cleaned.csv', index=False)\n",
    "df3.shape"
   ]
  }
 ],
 "metadata": {
  "colab": {
   "collapsed_sections": [],
   "name": "01 clean",
   "provenance": []
  },
  "kernelspec": {
   "display_name": "Python 3",
   "language": "python",
   "name": "python3"
  },
  "language_info": {
   "codemirror_mode": {
    "name": "ipython",
    "version": 3
   },
   "file_extension": ".py",
   "mimetype": "text/x-python",
   "name": "python",
   "nbconvert_exporter": "python",
   "pygments_lexer": "ipython3",
   "version": "3.7.6"
  }
 },
 "nbformat": 4,
 "nbformat_minor": 1
}
