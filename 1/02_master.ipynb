{
 "cells": [
  {
   "cell_type": "markdown",
   "metadata": {
    "id": "FHFv1ivtNAtq"
   },
   "source": [
    "# 1. import libraries"
   ]
  },
  {
   "cell_type": "code",
   "execution_count": 1,
   "metadata": {
    "id": "iMiQhN-FMZKj"
   },
   "outputs": [],
   "source": [
    "import io\n",
    "import warnings\n",
    "import numpy as np\n",
    "import pandas as pd\n",
    "import matplotlib.pyplot as plt\n",
    "import seaborn as sns"
   ]
  },
  {
   "cell_type": "code",
   "execution_count": 2,
   "metadata": {},
   "outputs": [],
   "source": [
    "from sklearn import tree"
   ]
  },
  {
   "cell_type": "code",
   "execution_count": 3,
   "metadata": {
    "id": "qwXplcU-NNJg"
   },
   "outputs": [],
   "source": [
    "warnings.filterwarnings(\"ignore\")\n",
    "%matplotlib inline\n",
    "plt.style.use('seaborn-white')"
   ]
  },
  {
   "cell_type": "markdown",
   "metadata": {
    "id": "9piNfcDfNQ-_"
   },
   "source": [
    "# 2. read data"
   ]
  },
  {
   "cell_type": "code",
   "execution_count": 4,
   "metadata": {},
   "outputs": [
    {
     "data": {
      "text/plain": [
       "(1000, 21)"
      ]
     },
     "execution_count": 4,
     "metadata": {},
     "output_type": "execute_result"
    }
   ],
   "source": [
    "df = pd.read_csv(\"../outputs/cleaned.csv\")\n",
    "df.shape"
   ]
  },
  {
   "cell_type": "markdown",
   "metadata": {
    "id": "efrDZzQxMSa8"
   },
   "source": [
    "# 3. categorical"
   ]
  },
  {
   "cell_type": "code",
   "execution_count": 5,
   "metadata": {},
   "outputs": [],
   "source": [
    "def shortlist_var(x):\n",
    "    gb = df.groupby(x)['Y'].agg(['sum','count'])\n",
    "    gb['bad'] = gb['sum']\n",
    "    gb['good'] = gb['count'] - gb['sum']\n",
    "    gb['pct_bad'] = gb['bad'] / gb['bad'].sum()\n",
    "    gb['pct_good'] = gb['good'] / gb['good'].sum()\n",
    "    gb['WOE'] = np.log(gb['pct_bad'] / gb['pct_good'])\n",
    "    gb['IV'] = gb['WOE'] * (gb['pct_bad'] - gb['pct_good'])\n",
    "    print(x,': ',round(gb['IV'].sum(),3))"
   ]
  },
  {
   "cell_type": "code",
   "execution_count": 6,
   "metadata": {
    "scrolled": false
   },
   "outputs": [
    {
     "name": "stdout",
     "output_type": "stream",
     "text": [
      "sex :  0.027\n",
      "status :  0.045\n",
      "dependents :  0.0\n",
      "house :  0.083\n",
      "house_years :  0.004\n",
      "employ :  0.009\n",
      "employ_year :  0.086\n",
      "balance :  0.069\n",
      "purpose :  0.169\n",
      "emi_pct :  0.026\n",
      "emi_plan :  0.058\n",
      "property :  0.113\n",
      "coapplicant :  0.017\n",
      "guarantor :  0.016\n",
      "history :  0.293\n"
     ]
    }
   ],
   "source": [
    "shortlist_var('sex')\n",
    "shortlist_var('status')\n",
    "shortlist_var('dependents')\n",
    "shortlist_var('house')\n",
    "shortlist_var('house_years')\n",
    "shortlist_var('employ')\n",
    "shortlist_var('employ_year')\n",
    "shortlist_var('balance')\n",
    "shortlist_var('purpose')\n",
    "shortlist_var('emi_pct')\n",
    "shortlist_var('emi_plan')\n",
    "shortlist_var('property')\n",
    "shortlist_var('coapplicant')\n",
    "shortlist_var('guarantor')\n",
    "shortlist_var('history')"
   ]
  },
  {
   "cell_type": "markdown",
   "metadata": {},
   "source": [
    "# 4. numerical"
   ]
  },
  {
   "cell_type": "code",
   "execution_count": 7,
   "metadata": {},
   "outputs": [],
   "source": [
    "def shortlist_var(x,y,z,i,j):\n",
    "    df[x] = df[x].fillna(-1)\n",
    "    dtree = tree.DecisionTreeClassifier(random_state=42, max_depth=i, min_samples_leaf=j)\n",
    "    dtree = dtree.fit(df[[x]],df[y])\n",
    "    \n",
    "    df[z] = dtree.apply(df[[x]])\n",
    "    gb = df.groupby(z).agg({'loan':'count', x:['min','max'], y:'mean'}).reset_index()\n",
    "    gb.columns = ['bin', 'count', 'min', 'max', 'bad']\n",
    "    \n",
    "    gb['good'] = 1 - gb['bad']\n",
    "    gb['pct_bad'] = gb['bad'] / gb['bad'].sum()\n",
    "    gb['pct_good'] = gb['good'] / gb['good'].sum()\n",
    "    gb['WOE'] = np.log(gb['pct_bad'] / gb['pct_good'])\n",
    "    gb['IV'] = gb['WOE'] * (gb['pct_bad'] - gb['pct_good'])\n",
    "    print(x,': ',round(gb['IV'].sum(),3))"
   ]
  },
  {
   "cell_type": "code",
   "execution_count": 8,
   "metadata": {},
   "outputs": [
    {
     "name": "stdout",
     "output_type": "stream",
     "text": [
      "age :  0.223\n",
      "months :  0.541\n",
      "loan_amount :  0.548\n"
     ]
    }
   ],
   "source": [
    "shortlist_var('age', 'Y', 'bin', 3, 50)\n",
    "shortlist_var('months', 'Y', 'bin', 3, 50)\n",
    "shortlist_var('loan_amount', 'Y', 'bin', 3, 50)"
   ]
  },
  {
   "cell_type": "markdown",
   "metadata": {},
   "source": [
    "# 5. Export Dataset"
   ]
  },
  {
   "cell_type": "code",
   "execution_count": 9,
   "metadata": {},
   "outputs": [
    {
     "data": {
      "text/plain": [
       "(1000, 9)"
      ]
     },
     "execution_count": 9,
     "metadata": {},
     "output_type": "execute_result"
    }
   ],
   "source": [
    "df = df[['account', 'loan', 'loan_amount', 'months', 'history', 'age', 'purpose', 'property', 'Y']]\n",
    "df.to_csv('../outputs/master.csv', index=False)\n",
    "df.shape"
   ]
  }
 ],
 "metadata": {
  "colab": {
   "collapsed_sections": [],
   "name": "01_Trends_Repeat.ipynb",
   "provenance": []
  },
  "kernelspec": {
   "display_name": "Python 3",
   "language": "python",
   "name": "python3"
  },
  "language_info": {
   "codemirror_mode": {
    "name": "ipython",
    "version": 3
   },
   "file_extension": ".py",
   "mimetype": "text/x-python",
   "name": "python",
   "nbconvert_exporter": "python",
   "pygments_lexer": "ipython3",
   "version": "3.7.6"
  }
 },
 "nbformat": 4,
 "nbformat_minor": 1
}
