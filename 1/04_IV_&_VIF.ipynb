{
 "cells": [
  {
   "cell_type": "markdown",
   "metadata": {
    "id": "FHFv1ivtNAtq"
   },
   "source": [
    "# 1. Import libraries"
   ]
  },
  {
   "cell_type": "code",
   "execution_count": 1,
   "metadata": {
    "id": "iMiQhN-FMZKj"
   },
   "outputs": [],
   "source": [
    "import io\n",
    "import warnings\n",
    "import numpy as np\n",
    "import pandas as pd\n",
    "import matplotlib.pyplot as plt\n",
    "import seaborn as sns"
   ]
  },
  {
   "cell_type": "code",
   "execution_count": 2,
   "metadata": {
    "colab": {
     "base_uri": "https://localhost:8080/"
    },
    "id": "yh6Ndkm0xF4S",
    "outputId": "fe736de4-b13d-42f5-d4ef-df6f99ea27b1"
   },
   "outputs": [],
   "source": [
    "from statsmodels.tools.tools import add_constant\n",
    "from statsmodels.stats.outliers_influence import variance_inflation_factor"
   ]
  },
  {
   "cell_type": "code",
   "execution_count": 3,
   "metadata": {
    "id": "qwXplcU-NNJg"
   },
   "outputs": [],
   "source": [
    "warnings.filterwarnings(\"ignore\")\n",
    "%matplotlib inline\n",
    "plt.style.use('seaborn-white')\n",
    "plt.rcParams['figure.figsize'] = 10,5"
   ]
  },
  {
   "cell_type": "code",
   "execution_count": 4,
   "metadata": {
    "id": "R1Mt4lf7w1BM"
   },
   "outputs": [],
   "source": [
    "def IV (data, X, Y):    \n",
    "    datag = data[[X,Y]]\n",
    "    datag = datag.groupby(X)[Y].agg(['sum','count'])\n",
    "    datag['bad'] = datag['sum']\n",
    "    datag['good'] = datag['count'] - datag['sum']\n",
    "    datag['pct_bad'] = datag['bad'] / datag['bad'].sum()\n",
    "    datag['pct_good'] = datag['good'] / datag['good'].sum()\n",
    "    datag['WOE'] = np.log(datag['pct_bad'] / datag['pct_good'])\n",
    "    datag['IV'] = datag['WOE'] * (datag['pct_bad'] - datag['pct_good'])\n",
    "    print(X,': ',round(datag['IV'].sum(),3))"
   ]
  },
  {
   "cell_type": "code",
   "execution_count": 5,
   "metadata": {
    "id": "UyzyrqxQxehe"
   },
   "outputs": [],
   "source": [
    "def VIF (data):\n",
    "    \"\"\"number of arguments = 1\n",
    "    arg 1 (data): enter the dataset name\"\"\"\n",
    "    X = add_constant(data)\n",
    "    Y = pd.Series([variance_inflation_factor(X.values, i)\n",
    "                   for i in range(X.shape[1])],\n",
    "                  index=X.columns)\n",
    "    print(Y)"
   ]
  },
  {
   "cell_type": "markdown",
   "metadata": {
    "id": "9piNfcDfNQ-_"
   },
   "source": [
    "# 2. Import datasets"
   ]
  },
  {
   "cell_type": "code",
   "execution_count": 6,
   "metadata": {
    "colab": {
     "base_uri": "https://localhost:8080/"
    },
    "id": "KJWrv-GsdsAW",
    "outputId": "d3a2ecc8-aa40-4383-85e6-3c2ec815cf6d"
   },
   "outputs": [
    {
     "data": {
      "text/plain": [
       "(1000, 7)"
      ]
     },
     "execution_count": 6,
     "metadata": {},
     "output_type": "execute_result"
    }
   ],
   "source": [
    "df = pd.read_csv(\"../outputs/model.csv\")\n",
    "df.shape"
   ]
  },
  {
   "cell_type": "markdown",
   "metadata": {},
   "source": [
    "# 3. univariate"
   ]
  },
  {
   "cell_type": "code",
   "execution_count": 7,
   "metadata": {
    "colab": {
     "base_uri": "https://localhost:8080/",
     "height": 551
    },
    "id": "C64U-Ak3amGo",
    "outputId": "65f63133-54b3-40e8-e7d3-4120d2749949"
   },
   "outputs": [
    {
     "data": {
      "text/html": [
       "<div>\n",
       "<style scoped>\n",
       "    .dataframe tbody tr th:only-of-type {\n",
       "        vertical-align: middle;\n",
       "    }\n",
       "\n",
       "    .dataframe tbody tr th {\n",
       "        vertical-align: top;\n",
       "    }\n",
       "\n",
       "    .dataframe thead th {\n",
       "        text-align: right;\n",
       "    }\n",
       "</style>\n",
       "<table border=\"1\" class=\"dataframe\">\n",
       "  <thead>\n",
       "    <tr style=\"text-align: right;\">\n",
       "      <th></th>\n",
       "      <th>count</th>\n",
       "      <th>mean</th>\n",
       "      <th>std</th>\n",
       "      <th>min</th>\n",
       "      <th>25%</th>\n",
       "      <th>50%</th>\n",
       "      <th>75%</th>\n",
       "      <th>max</th>\n",
       "    </tr>\n",
       "  </thead>\n",
       "  <tbody>\n",
       "    <tr>\n",
       "      <th>loan_amount</th>\n",
       "      <td>1000.0</td>\n",
       "      <td>0.29962</td>\n",
       "      <td>0.106224</td>\n",
       "      <td>0.08</td>\n",
       "      <td>0.24</td>\n",
       "      <td>0.32</td>\n",
       "      <td>0.32</td>\n",
       "      <td>0.54</td>\n",
       "    </tr>\n",
       "    <tr>\n",
       "      <th>months</th>\n",
       "      <td>1000.0</td>\n",
       "      <td>0.29572</td>\n",
       "      <td>0.108852</td>\n",
       "      <td>0.10</td>\n",
       "      <td>0.24</td>\n",
       "      <td>0.32</td>\n",
       "      <td>0.32</td>\n",
       "      <td>0.56</td>\n",
       "    </tr>\n",
       "    <tr>\n",
       "      <th>history</th>\n",
       "      <td>1000.0</td>\n",
       "      <td>0.30981</td>\n",
       "      <td>0.112338</td>\n",
       "      <td>0.18</td>\n",
       "      <td>0.18</td>\n",
       "      <td>0.33</td>\n",
       "      <td>0.33</td>\n",
       "      <td>0.63</td>\n",
       "    </tr>\n",
       "    <tr>\n",
       "      <th>age</th>\n",
       "      <td>1000.0</td>\n",
       "      <td>0.30384</td>\n",
       "      <td>0.072034</td>\n",
       "      <td>0.15</td>\n",
       "      <td>0.27</td>\n",
       "      <td>0.27</td>\n",
       "      <td>0.33</td>\n",
       "      <td>0.45</td>\n",
       "    </tr>\n",
       "    <tr>\n",
       "      <th>purpose</th>\n",
       "      <td>1000.0</td>\n",
       "      <td>0.30102</td>\n",
       "      <td>0.083109</td>\n",
       "      <td>0.12</td>\n",
       "      <td>0.21</td>\n",
       "      <td>0.36</td>\n",
       "      <td>0.36</td>\n",
       "      <td>0.42</td>\n",
       "    </tr>\n",
       "    <tr>\n",
       "      <th>property</th>\n",
       "      <td>1000.0</td>\n",
       "      <td>0.29490</td>\n",
       "      <td>0.079153</td>\n",
       "      <td>0.20</td>\n",
       "      <td>0.20</td>\n",
       "      <td>0.30</td>\n",
       "      <td>0.30</td>\n",
       "      <td>0.45</td>\n",
       "    </tr>\n",
       "    <tr>\n",
       "      <th>Y</th>\n",
       "      <td>1000.0</td>\n",
       "      <td>0.30000</td>\n",
       "      <td>0.458487</td>\n",
       "      <td>0.00</td>\n",
       "      <td>0.00</td>\n",
       "      <td>0.00</td>\n",
       "      <td>1.00</td>\n",
       "      <td>1.00</td>\n",
       "    </tr>\n",
       "  </tbody>\n",
       "</table>\n",
       "</div>"
      ],
      "text/plain": [
       "              count     mean       std   min   25%   50%   75%   max\n",
       "loan_amount  1000.0  0.29962  0.106224  0.08  0.24  0.32  0.32  0.54\n",
       "months       1000.0  0.29572  0.108852  0.10  0.24  0.32  0.32  0.56\n",
       "history      1000.0  0.30981  0.112338  0.18  0.18  0.33  0.33  0.63\n",
       "age          1000.0  0.30384  0.072034  0.15  0.27  0.27  0.33  0.45\n",
       "purpose      1000.0  0.30102  0.083109  0.12  0.21  0.36  0.36  0.42\n",
       "property     1000.0  0.29490  0.079153  0.20  0.20  0.30  0.30  0.45\n",
       "Y            1000.0  0.30000  0.458487  0.00  0.00  0.00  1.00  1.00"
      ]
     },
     "execution_count": 7,
     "metadata": {},
     "output_type": "execute_result"
    }
   ],
   "source": [
    "df.describe().transpose()"
   ]
  },
  {
   "cell_type": "markdown",
   "metadata": {
    "id": "9TW2B4XAgAt1"
   },
   "source": [
    "# 4. IV"
   ]
  },
  {
   "cell_type": "code",
   "execution_count": 8,
   "metadata": {
    "colab": {
     "base_uri": "https://localhost:8080/"
    },
    "id": "jSxkErWfw03W",
    "outputId": "2d69508e-333b-43c9-e104-ab3c9b378442"
   },
   "outputs": [
    {
     "name": "stdout",
     "output_type": "stream",
     "text": [
      "loan_amount :  0.263\n",
      "months :  0.289\n",
      "history :  0.293\n",
      "purpose :  0.162\n",
      "age :  0.132\n",
      "property :  0.113\n"
     ]
    }
   ],
   "source": [
    "IV(df, 'loan_amount', 'Y')\n",
    "IV(df, 'months', 'Y')\n",
    "IV(df, 'history', 'Y')\n",
    "IV(df, 'purpose', 'Y')\n",
    "IV(df, 'age', 'Y')\n",
    "IV(df, 'property', 'Y')"
   ]
  },
  {
   "cell_type": "markdown",
   "metadata": {
    "id": "sHtwXspExbNI"
   },
   "source": [
    "# 5. VIF"
   ]
  },
  {
   "cell_type": "code",
   "execution_count": 9,
   "metadata": {
    "colab": {
     "base_uri": "https://localhost:8080/"
    },
    "id": "52G-xzPWYgSq",
    "outputId": "04a82d11-e1c0-4a03-f2d2-2d6205808ba0"
   },
   "outputs": [
    {
     "name": "stdout",
     "output_type": "stream",
     "text": [
      "const          55.800574\n",
      "loan_amount     1.097527\n",
      "months          1.162643\n",
      "history         1.030923\n",
      "property        1.103694\n",
      "age             1.020514\n",
      "purpose         1.006265\n",
      "dtype: float64\n"
     ]
    }
   ],
   "source": [
    "x = df[['loan_amount', 'months', 'history', 'property', 'age', 'purpose']]\n",
    "VIF(x)"
   ]
  }
 ],
 "metadata": {
  "colab": {
   "collapsed_sections": [],
   "name": "05 IV & VIF",
   "provenance": []
  },
  "kernelspec": {
   "display_name": "Python 3",
   "language": "python",
   "name": "python3"
  },
  "language_info": {
   "codemirror_mode": {
    "name": "ipython",
    "version": 3
   },
   "file_extension": ".py",
   "mimetype": "text/x-python",
   "name": "python",
   "nbconvert_exporter": "python",
   "pygments_lexer": "ipython3",
   "version": "3.7.6"
  }
 },
 "nbformat": 4,
 "nbformat_minor": 1
}
